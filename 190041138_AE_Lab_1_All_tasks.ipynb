{
  "nbformat": 4,
  "nbformat_minor": 0,
  "metadata": {
    "colab": {
      "provenance": []
    },
    "kernelspec": {
      "name": "python3",
      "display_name": "Python 3"
    },
    "language_info": {
      "name": "python"
    }
  },
  "cells": [
    {
      "cell_type": "markdown",
      "source": [
        "#Task 1"
      ],
      "metadata": {
        "id": "As56fsKMagpt"
      }
    },
    {
      "cell_type": "markdown",
      "source": [
        "Implementing 2 stacks using array"
      ],
      "metadata": {
        "id": "rASbua4ZbYWS"
      }
    },
    {
      "cell_type": "code",
      "execution_count": 1,
      "metadata": {
        "colab": {
          "base_uri": "https://localhost:8080/"
        },
        "id": "oCkoSKXvaaUh",
        "outputId": "e95ca05e-7ec3-403a-8ca7-57b8769b4bba"
      },
      "outputs": [
        {
          "output_type": "stream",
          "name": "stdout",
          "text": [
            "Previous Index of Top 1 is: 4\n",
            "New Array is:\n",
            "\n",
            "[0, 0, 0, 96, 0, 0, 0, 0, 0]\n",
            "New Index of Top 1 is: 3\n",
            "\n",
            "Previous Index of Top 2 is: 3\n",
            "New Array is:\n",
            "\n",
            "[0, 0, 0, 96, 138, 0, 0, 0, 0]\n",
            "New Index of Top 2 is: 4\n",
            "\n",
            "Previous Index of Top 1 is: 3\n",
            "New Array is:\n",
            "\n",
            "[0, 0, 105, 96, 138, 0, 0, 0, 0]\n",
            "New Index of Top 1 is: 2\n",
            "\n",
            "Previous Index of Top 2 is: 4\n",
            "New Array is:\n",
            "\n",
            "[0, 0, 105, 96, 138, 116, 0, 0, 0]\n",
            "New Index of Top 2 is: 5\n",
            "\n",
            "Previous Index of Top 1 is: 2\n",
            "New Array is:\n",
            "\n",
            "[0, 108, 105, 96, 138, 116, 0, 0, 0]\n",
            "New Index of Top 1 is: 1\n",
            "\n",
            "Previous Index of Top 1 is: 1\n",
            "108\n",
            "New Array After Popping:\n",
            "\n",
            "[0, 0, 105, 96, 138, 116, 0, 0, 0]\n",
            "New Index of Top 1 is: 2\n",
            "\n",
            "Previous Index of Top 2 is: 5\n",
            "116\n",
            "New Array After Popping:\n",
            "\n",
            "[0, 0, 105, 96, 138, 0, 0, 0, 0]\n",
            "New Index of Top 2 is: 4\n",
            "\n",
            "Previous Index of Top 1 is: 2\n",
            "105\n",
            "New Array After Popping:\n",
            "\n",
            "[0, 0, 0, 96, 138, 0, 0, 0, 0]\n",
            "New Index of Top 1 is: 3\n",
            "\n"
          ]
        }
      ],
      "source": [
        "class TwoStackOneArray:\n",
        "  def __init__(self,no_of_elements):\n",
        "    self.n=no_of_elements\n",
        "    self.array=[0]*self.n\n",
        "    self.mid_point=self.n//2\n",
        "    self.top1= self.mid_point\n",
        "    self.top2= self.mid_point-1\n",
        "  def push1(self, element):\n",
        "    if self.top1<0:\n",
        "      print(\"Cannot Push Any Element\")\n",
        "      return\n",
        "    print(\"Previous Index of Top 1 is: {}\".format(self.top1))\n",
        "    self.top1= self.top1-1\n",
        "    self.array[self.top1]=element\n",
        "    print(\"New Array is:\\n\")\n",
        "    print(self.array)\n",
        "    print(\"New Index of Top 1 is: {}\\n\".format(self.top1))\n",
        "  def pop1(self):\n",
        "    if self.top1 > self.mid_point:\n",
        "      print(\"Cannot Pop!\")\n",
        "      return\n",
        "    print(\"Previous Index of Top 1 is: {}\".format(self.top1))\n",
        "    print(self.array[self.top1])\n",
        "    self.array[self.top1]=0\n",
        "    self.top1=self.top1+1\n",
        "    print(\"New Array After Popping:\\n\")\n",
        "    print(self.array)\n",
        "    print(\"New Index of Top 1 is: {}\\n\".format(self.top1))\n",
        "  def push2(self, element):\n",
        "    if self.top2< self.mid_point-1:\n",
        "      print(\"Cannot Push Any Element\")\n",
        "      return\n",
        "    print(\"Previous Index of Top 2 is: {}\".format(self.top2))\n",
        "    self.top2= self.top2+1\n",
        "    self.array[self.top2]=element\n",
        "    print(\"New Array is:\\n\")\n",
        "    print(self.array)\n",
        "    print(\"New Index of Top 2 is: {}\\n\".format(self.top2))\n",
        "  def pop2(self):\n",
        "    if self.top2 < (self.n-1)//2:\n",
        "      print(\"Cannot Pop!\")\n",
        "      return\n",
        "    print(\"Previous Index of Top 2 is: {}\".format(self.top2))\n",
        "    print(self.array[self.top2])\n",
        "    self.array[self.top2]=0\n",
        "    print(\"New Array After Popping:\\n\")\n",
        "    print(self.array)\n",
        "    self.top2=self.top2-1\n",
        "    print(\"New Index of Top 2 is: {}\\n\".format(self.top2))\n",
        "\n",
        "object1=TwoStackOneArray(9)\n",
        "object1.push1(96)\n",
        "object1.push2(138)\n",
        "object1.push1(105)\n",
        "object1.push2(116)\n",
        "object1.push1(108)\n",
        "object1.pop1()\n",
        "object1.pop2()\n",
        "object1.pop1()"
      ]
    },
    {
      "cell_type": "markdown",
      "source": [
        "Implement Stack Using Queues"
      ],
      "metadata": {
        "id": "DMPxM165uTZG"
      }
    },
    {
      "cell_type": "code",
      "source": [
        "from queue import Queue\n",
        "class StackUsingQueue:\n",
        "  def __init__(self):\n",
        "    self.q=[]\n",
        "    self.idx=-1\n",
        "  def push(self, element):\n",
        "    q1=self.q\n",
        "    q2=[]\n",
        "    q2.append(element)\n",
        "    for i in range(0, len(q1)):\n",
        "      q2.append(q1[i])\n",
        "    self.q=q2\n",
        "    print(\"New Array after pushing {} is:\".format(element))\n",
        "    print(self.q)\n",
        "    self.idx= self.idx+1\n",
        "  def empty(self):\n",
        "    print(\"Checking if the stack is empty: True/False\")\n",
        "    if self.q:\n",
        "      print(\"Stack is not empty!\")\n",
        "    else:\n",
        "      print(\"Stack is empty!\")\n",
        "  def pop(self):\n",
        "    if self.idx<0:\n",
        "      print(\"Nothing to pop!\")\n",
        "    #print(self.q[self.idx])\n",
        "    print(\"Based on LIFO, last element popped is: {}\".format(self.q[0]))\n",
        "    del self.q[0]\n",
        "    self.idx=self.idx-1\n",
        "\n",
        "object2= StackUsingQueue()\n",
        "object2.push(3)\n",
        "object2.push(4)\n",
        "object2.push(5)\n",
        "object2.push(6)\n",
        "object2.empty()\n",
        "object2.pop()\n",
        "object2.push(7)\n",
        "object2.pop()"
      ],
      "metadata": {
        "colab": {
          "base_uri": "https://localhost:8080/"
        },
        "id": "JFl77ioOl04r",
        "outputId": "8bd23057-59d7-4685-81b8-64492d8500f0"
      },
      "execution_count": 2,
      "outputs": [
        {
          "output_type": "stream",
          "name": "stdout",
          "text": [
            "New Array after pushing 3 is:\n",
            "[3]\n",
            "New Array after pushing 4 is:\n",
            "[4, 3]\n",
            "New Array after pushing 5 is:\n",
            "[5, 4, 3]\n",
            "New Array after pushing 6 is:\n",
            "[6, 5, 4, 3]\n",
            "Checking if the stack is empty: True/False\n",
            "Stack is not empty!\n",
            "Based on LIFO, last element popped is: 6\n",
            "New Array after pushing 7 is:\n",
            "[7, 5, 4, 3]\n",
            "Based on LIFO, last element popped is: 7\n"
          ]
        }
      ]
    },
    {
      "cell_type": "markdown",
      "source": [
        "Reverse a Linked List using Stack"
      ],
      "metadata": {
        "id": "fj3vjhb41RWX"
      }
    },
    {
      "cell_type": "code",
      "source": [
        "class Node:\n",
        "  def __init__(self, value):\n",
        "    self.value = value\n",
        "    self.next = None\n",
        "class LinkedList:\n",
        "  def __init__(self):\n",
        "    self.head=Node(None)\n",
        "  def insertNode(self, value):\n",
        "    new= Node(value)\n",
        "    print(\"Newly inserted element in the linked list is: {}\".format(value))\n",
        "    if self.head.value==None:\n",
        "      self.head= new\n",
        "      return\n",
        "    iterate=self.head\n",
        "    while iterate.next!=None:\n",
        "      iterate= iterate.next\n",
        "    iterate.next=new\n",
        "  def printLinkedList(self):\n",
        "    iterate=self.head\n",
        "    print(\"Elements of the linked list are:\")\n",
        "    while iterate!=None:\n",
        "      print(iterate.value)\n",
        "      iterate=iterate.next\n",
        "  def getLinkedListinStack(self):\n",
        "    arr=[]\n",
        "    iterate=self.head\n",
        "    while iterate:\n",
        "      arr.append(iterate.value)\n",
        "      iterate=iterate.next\n",
        "    return arr\n",
        "  def clearLinkedList(self):\n",
        "    iterate=self.head\n",
        "    while iterate:\n",
        "      iterate.value=None\n",
        "      iterate=iterate.next\n",
        "\n",
        "\n",
        "object3=LinkedList()\n",
        "object3.insertNode(3)\n",
        "object3.insertNode(4)\n",
        "object3.insertNode(5)\n",
        "#object3.printLinkedList()\n",
        "arr= object3.getLinkedListinStack()\n",
        "print(\"\\nElements of the Linked List Added to the stack\")\n",
        "print(arr)\n",
        "print(\"\\nPopping elements from the stack:\")\n",
        "object3.clearLinkedList()\n",
        "while arr:\n",
        "  object3.insertNode(arr.pop())\n",
        "object3.printLinkedList()"
      ],
      "metadata": {
        "colab": {
          "base_uri": "https://localhost:8080/"
        },
        "id": "bL9Eebedu5kB",
        "outputId": "30c7911f-b46a-4e9a-a004-6a2af0fa9bbb"
      },
      "execution_count": 26,
      "outputs": [
        {
          "output_type": "stream",
          "name": "stdout",
          "text": [
            "Newly inserted element in the linked list is: 3\n",
            "Newly inserted element in the linked list is: 4\n",
            "Newly inserted element in the linked list is: 5\n",
            "\n",
            "Elements of the Linked List Added to the stack\n",
            "[3, 4, 5]\n",
            "\n",
            "Popping elements from the stack:\n",
            "Newly inserted element in the linked list is: 5\n",
            "Newly inserted element in the linked list is: 4\n",
            "Newly inserted element in the linked list is: 3\n",
            "Elements of the linked list are:\n",
            "5\n",
            "4\n",
            "3\n"
          ]
        }
      ]
    },
    {
      "cell_type": "markdown",
      "source": [
        "#Task 2"
      ],
      "metadata": {
        "id": "1BRti9VH1Yu1"
      }
    },
    {
      "cell_type": "markdown",
      "source": [
        "Print Middle Element of Array Using Stack"
      ],
      "metadata": {
        "id": "p4PwA-5e1Z0Q"
      }
    },
    {
      "cell_type": "code",
      "source": [
        "stack1=[34, 3, 31, 40, 98, 92, 23]\n",
        "print(\"Test Case 1:\")\n",
        "print(stack1)\n",
        "stack2=[]\n",
        "stack3=[]\n",
        "i=0\n",
        "while stack1:\n",
        "  stack2.append(stack1.pop())\n",
        "  i=i+1\n",
        "mid=0\n",
        "if i%2==0:\n",
        "  mid= i/2\n",
        "else:\n",
        "  mid= i//2\n",
        "for i in range(0, mid):\n",
        "  stack3.append(stack2.pop())\n",
        "stack2.pop()\n",
        "while stack2:\n",
        "  stack3.append(stack2.pop())\n",
        "print(\"\\nNew Array After deleting the middle element:\")\n",
        "print(stack3)"
      ],
      "metadata": {
        "colab": {
          "base_uri": "https://localhost:8080/"
        },
        "id": "7cn2DcOP17uf",
        "outputId": "0eaf448d-4732-4d79-f9e9-f868fe07c661"
      },
      "execution_count": 4,
      "outputs": [
        {
          "output_type": "stream",
          "name": "stdout",
          "text": [
            "Test Case 1:\n",
            "[34, 3, 31, 40, 98, 92, 23]\n",
            "\n",
            "New Array After deleting the middle element:\n",
            "[34, 3, 31, 98, 92, 23]\n"
          ]
        }
      ]
    },
    {
      "cell_type": "code",
      "source": [
        "stack1=[3, 5, 1, 4, 2, 8]\n",
        "print(\"Test Case 1:\")\n",
        "print(stack1)\n",
        "stack2=[]\n",
        "stack3=[]\n",
        "i=0\n",
        "while stack1:\n",
        "  stack2.append(stack1.pop())\n",
        "  i=i+1\n",
        "mid=0\n",
        "if i%2==0:\n",
        "  mid= i//2\n",
        "  mid=mid-1\n",
        "else:\n",
        "  mid= i//2\n",
        "for i in range(0, mid):\n",
        "  stack3.append(stack2.pop())\n",
        "stack2.pop()\n",
        "while stack2:\n",
        "  stack3.append(stack2.pop())\n",
        "print(\"\\nNew Array After deleting the middle element:\")\n",
        "print(stack3)"
      ],
      "metadata": {
        "colab": {
          "base_uri": "https://localhost:8080/"
        },
        "id": "4uzNUZF02Hvy",
        "outputId": "e4a888e3-7a02-401e-8ebc-c1809043e668"
      },
      "execution_count": 5,
      "outputs": [
        {
          "output_type": "stream",
          "name": "stdout",
          "text": [
            "Test Case 1:\n",
            "[3, 5, 1, 4, 2, 8]\n",
            "\n",
            "New Array After deleting the middle element:\n",
            "[3, 5, 4, 2, 8]\n"
          ]
        }
      ]
    },
    {
      "cell_type": "markdown",
      "source": [
        "#Task 3"
      ],
      "metadata": {
        "id": "0LregVXZ30aB"
      }
    },
    {
      "cell_type": "code",
      "source": [
        "import numpy as np\n",
        "input= [1, 2, 3, 1, 4, 5, 2, 3, 6]\n",
        "k = 3\n",
        "idx=0\n",
        "length=len(input)\n",
        "output=[]\n",
        "for i in range(0,length):\n",
        "  stack=[]\n",
        "  if i+k<= length:\n",
        "    for j in range(i, i+k):\n",
        "      stack.append(input[j])\n",
        "  else:\n",
        "    continue\n",
        "  element=float('-inf')\n",
        "  while stack:\n",
        "    p=stack.pop()\n",
        "    if p> element:\n",
        "      element=p\n",
        "  output.append(element)\n",
        "print(output)"
      ],
      "metadata": {
        "colab": {
          "base_uri": "https://localhost:8080/"
        },
        "id": "sz0broW32sCa",
        "outputId": "7dd28655-85b6-45de-f37f-affb5308e758"
      },
      "execution_count": 7,
      "outputs": [
        {
          "output_type": "stream",
          "name": "stdout",
          "text": [
            "[3, 3, 4, 5, 5, 5, 6]\n"
          ]
        }
      ]
    },
    {
      "cell_type": "markdown",
      "source": [
        "#Task 4"
      ],
      "metadata": {
        "id": "bjRhNw-nLoPK"
      }
    },
    {
      "cell_type": "code",
      "source": [
        "arr1=[1,2,3,4,6]\n",
        "arr2=[2,4,6,8]\n",
        "#This elements of the lists will be inserted into the linked list first\n",
        "\n",
        "class Node:\n",
        "  def __init__(self, value):\n",
        "    self.value = value\n",
        "    self.next = None\n",
        "class LinkedList:\n",
        "  def __init__(self):\n",
        "    self.head=Node(None)\n",
        "  def insertNode(self, value):\n",
        "    new= Node(value)\n",
        "    print(\"Newly inserted element in the linked list is: {}\".format(value))\n",
        "    if self.head.value==None:\n",
        "      self.head= new\n",
        "      return\n",
        "    iterate=self.head\n",
        "    while iterate.next!=None:\n",
        "      iterate= iterate.next\n",
        "    iterate.next=new\n",
        "  def printLinkedList(self):\n",
        "    iterate=self.head\n",
        "    print(\"Elements of the linked list are:\")\n",
        "    while iterate!=None:\n",
        "      print(iterate.value)\n",
        "      iterate=iterate.next\n",
        "  def getLinkedListinStack(self):\n",
        "    arr=[]\n",
        "    iterate=self.head\n",
        "    while iterate:\n",
        "      arr.append(iterate.value)\n",
        "      iterate=iterate.next\n",
        "    return arr\n",
        "  def clearLinkedList(self):\n",
        "    iterate=self.head\n",
        "    while iterate:\n",
        "      iterate.value=None\n",
        "      iterate=iterate.next\n",
        "linkedlist1= LinkedList()\n",
        "print(\"For Linked List 1\")\n",
        "for i in range(0, len(arr1)):\n",
        "  linkedlist1.insertNode(arr1[i])\n",
        "print(\"For Linked List 2\")\n",
        "linkedlist2=LinkedList()\n",
        "for i in range(0, len(arr2)):\n",
        "  linkedlist2.insertNode(arr2[i])\n",
        "\n",
        "#iteration\n",
        "common=[]\n",
        "head1=linkedlist1.head\n",
        "while head1:\n",
        "  head2=linkedlist2.head\n",
        "  while head2:\n",
        "    if head2.value==head1.value:\n",
        "      common.append(head2.value)\n",
        "    head2=head2.next\n",
        "  head1=head1.next\n",
        "print(common)"
      ],
      "metadata": {
        "id": "FnuUS-0d61RY",
        "colab": {
          "base_uri": "https://localhost:8080/"
        },
        "outputId": "bd02287d-dfad-478c-b1fa-540bc468c97f"
      },
      "execution_count": 35,
      "outputs": [
        {
          "output_type": "stream",
          "name": "stdout",
          "text": [
            "For Linked List 1\n",
            "Newly inserted element in the linked list is: 1\n",
            "Newly inserted element in the linked list is: 2\n",
            "Newly inserted element in the linked list is: 3\n",
            "Newly inserted element in the linked list is: 4\n",
            "Newly inserted element in the linked list is: 6\n",
            "For Linked List 2\n",
            "Newly inserted element in the linked list is: 2\n",
            "Newly inserted element in the linked list is: 4\n",
            "Newly inserted element in the linked list is: 6\n",
            "Newly inserted element in the linked list is: 8\n",
            "[2, 4, 6]\n"
          ]
        }
      ]
    },
    {
      "cell_type": "code",
      "source": [
        "arr1=[1, 2,8,9, 10,12,14]\n",
        "arr2=[2,3,4,9,11,12,13]\n",
        "#This elements of the lists will be inserted into the linked list first\n",
        "\n",
        "class Node:\n",
        "  def __init__(self, value):\n",
        "    self.value = value\n",
        "    self.next = None\n",
        "class LinkedList:\n",
        "  def __init__(self):\n",
        "    self.head=Node(None)\n",
        "  def insertNode(self, value):\n",
        "    new= Node(value)\n",
        "    print(\"Newly inserted element in the linked list is: {}\".format(value))\n",
        "    if self.head.value==None:\n",
        "      self.head= new\n",
        "      return\n",
        "    iterate=self.head\n",
        "    while iterate.next!=None:\n",
        "      iterate= iterate.next\n",
        "    iterate.next=new\n",
        "  def printLinkedList(self):\n",
        "    iterate=self.head\n",
        "    print(\"Elements of the linked list are:\")\n",
        "    while iterate!=None:\n",
        "      print(iterate.value)\n",
        "      iterate=iterate.next\n",
        "  def getLinkedListinStack(self):\n",
        "    arr=[]\n",
        "    iterate=self.head\n",
        "    while iterate:\n",
        "      arr.append(iterate.value)\n",
        "      iterate=iterate.next\n",
        "    return arr\n",
        "  def clearLinkedList(self):\n",
        "    iterate=self.head\n",
        "    while iterate:\n",
        "      iterate.value=None\n",
        "      iterate=iterate.next\n",
        "linkedlist1= LinkedList()\n",
        "print(\"For Linked List 1\")\n",
        "for i in range(0, len(arr1)):\n",
        "  linkedlist1.insertNode(arr1[i])\n",
        "print(\"For Linked List 2\")\n",
        "linkedlist2=LinkedList()\n",
        "for i in range(0, len(arr2)):\n",
        "  linkedlist2.insertNode(arr2[i])\n",
        "\n",
        "#iteration\n",
        "common=[]\n",
        "head1=linkedlist1.head\n",
        "while head1:\n",
        "  head2=linkedlist2.head\n",
        "  while head2:\n",
        "    if head2.value==head1.value:\n",
        "      common.append(head2.value)\n",
        "    head2=head2.next\n",
        "  head1=head1.next\n",
        "print(common)"
      ],
      "metadata": {
        "colab": {
          "base_uri": "https://localhost:8080/"
        },
        "id": "Cqk9quoMaNTI",
        "outputId": "13766ad6-5c63-421a-d56f-f0abfa65ff37"
      },
      "execution_count": 36,
      "outputs": [
        {
          "output_type": "stream",
          "name": "stdout",
          "text": [
            "For Linked List 1\n",
            "Newly inserted element in the linked list is: 1\n",
            "Newly inserted element in the linked list is: 2\n",
            "Newly inserted element in the linked list is: 8\n",
            "Newly inserted element in the linked list is: 9\n",
            "Newly inserted element in the linked list is: 10\n",
            "Newly inserted element in the linked list is: 12\n",
            "Newly inserted element in the linked list is: 14\n",
            "For Linked List 2\n",
            "Newly inserted element in the linked list is: 2\n",
            "Newly inserted element in the linked list is: 3\n",
            "Newly inserted element in the linked list is: 4\n",
            "Newly inserted element in the linked list is: 9\n",
            "Newly inserted element in the linked list is: 11\n",
            "Newly inserted element in the linked list is: 12\n",
            "Newly inserted element in the linked list is: 13\n",
            "[2, 9, 12]\n"
          ]
        }
      ]
    },
    {
      "cell_type": "code",
      "source": [],
      "metadata": {
        "id": "S56Cg7Vagdgl"
      },
      "execution_count": null,
      "outputs": []
    }
  ]
}